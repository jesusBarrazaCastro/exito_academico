{
 "cells": [
  {
   "cell_type": "markdown",
   "metadata": {},
   "source": [
    "Cargar los archivos CSV"
   ]
  },
  {
   "cell_type": "code",
   "execution_count": 50,
   "metadata": {},
   "outputs": [
    {
     "name": "stdout",
     "output_type": "stream",
     "text": [
      "   periodo  clave_alumno clave_materia  calificacion  tipo_calificacion\n",
      "0     2001             0       ACB9309         100.0                  1\n",
      "1     2001             0       ACH9322          75.0                  1\n",
      "2     2001             0       ACM9313           0.0                  3\n",
      "3     2001             0       ACM9301           0.0                  3\n",
      "4     2001             0       ACC9326          93.0                  1\n",
      "   clave_carrera                  nombre        corto\n",
      "0              0   INGENIERIA INDUSTRIAL   Industrial\n",
      "1              1   INGENIERIA BIOQUIMICA   Bioquimica\n",
      "2              2     INGENIERIA MECANICA     Mecanica\n",
      "3              3    INGENIERIA ELECTRICA    Electrica\n",
      "4              4  INGENIERIA ELECTRONICA  Electronica\n",
      "   clave                         escuela\n",
      "0      3  COBAES 3(PROFRA. VELINA LEON )\n",
      "1      4  COBAES 4(PROFR. VICTOR M. RUB)\n",
      "2      5  COBAES 5(PROFRA. FCA. GUERRER)\n",
      "3      6  COBAES 6(ING.JOSE HERNANDEZ T)\n",
      "4      7  COBAES 7(GRAÑ. PABLO MACIAS V)\n",
      "   clave_alumno  clave_carrera  sexo  prepa          colonia  municipio  \\\n",
      "0            28              4     1      2      Los Angeles    25006.0   \n",
      "1           248              4     1    125  FRAC.RINCON HYA    25006.0   \n",
      "2           260              4     1     71        El Walamo    25006.0   \n",
      "3           261              4     1    107       4 de Marzo    25006.0   \n",
      "4           262              4     2      2      Los Angeles    25006.0   \n",
      "\n",
      "           ciudad  ingreso  termino  causa_salida  \n",
      "0  CULIACAN, SIN.   2003.0   2061.0             5  \n",
      "1  CULIACAN, SIN.   2003.0   2061.0             5  \n",
      "2  CULIACAN, SIN.   2003.0   2061.0             5  \n",
      "3  CULIACAN, SIN.   2003.0   2051.0             4  \n",
      "4        CULIACAN   2003.0   2053.0             5  \n"
     ]
    }
   ],
   "source": [
    "import pandas as pd\n",
    "\n",
    "# Cargar los archivos CSV\n",
    "calificaciones_df = pd.read_csv('input/calificaciones.csv')\n",
    "carrera_df = pd.read_csv('input/carrera.csv')\n",
    "escuelas_df = pd.read_csv('input/escuelas.csv')\n",
    "estudiantes_df = pd.read_csv('input/estudiantes.csv')\n",
    "\n",
    "# Ver las primeras filas de cada DataFrame\n",
    "print(calificaciones_df.head())\n",
    "print(carrera_df.head())\n",
    "print(escuelas_df.head())\n",
    "print(estudiantes_df.head())"
   ]
  },
  {
   "cell_type": "markdown",
   "metadata": {},
   "source": [
    "Explorar los datos\n",
    "Verificamos si los datos contienen valores nulos, duplicados, o alguna inconsistencia:"
   ]
  },
  {
   "cell_type": "code",
   "execution_count": 51,
   "metadata": {},
   "outputs": [
    {
     "name": "stdout",
     "output_type": "stream",
     "text": [
      "Valores nulos en calificaciones:\n",
      " periodo              0\n",
      "clave_alumno         0\n",
      "clave_materia        0\n",
      "calificacion         0\n",
      "tipo_calificacion    0\n",
      "dtype: int64\n",
      "Valores nulos en carrera:\n",
      " clave_carrera    0\n",
      "nombre           0\n",
      "corto            0\n",
      "dtype: int64\n",
      "Valores nulos en escuelas:\n",
      " clave      0\n",
      "escuela    0\n",
      "dtype: int64\n",
      "Valores nulos en estudiantes:\n",
      " clave_alumno        0\n",
      "clave_carrera       0\n",
      "sexo                0\n",
      "prepa               0\n",
      "colonia           600\n",
      "municipio         363\n",
      "ciudad            287\n",
      "ingreso             1\n",
      "termino          5317\n",
      "causa_salida        0\n",
      "dtype: int64\n",
      "Duplicados en calificaciones: 4\n",
      "Duplicados en carrera: 0\n",
      "Duplicados en escuelas: 0\n",
      "Duplicados en estudiantes: 0\n"
     ]
    }
   ],
   "source": [
    "# Verificar si hay valores nulos\n",
    "print(\"Valores nulos en calificaciones:\\n\", calificaciones_df.isnull().sum())\n",
    "print(\"Valores nulos en carrera:\\n\", carrera_df.isnull().sum())\n",
    "print(\"Valores nulos en escuelas:\\n\", escuelas_df.isnull().sum())\n",
    "print(\"Valores nulos en estudiantes:\\n\", estudiantes_df.isnull().sum())\n",
    "\n",
    "# Verificar si hay duplicados\n",
    "print(\"Duplicados en calificaciones:\", calificaciones_df.duplicated().sum())\n",
    "print(\"Duplicados en carrera:\", carrera_df.duplicated().sum())\n",
    "print(\"Duplicados en escuelas:\", escuelas_df.duplicated().sum())\n",
    "print(\"Duplicados en estudiantes:\", estudiantes_df.duplicated().sum())"
   ]
  },
  {
   "cell_type": "markdown",
   "metadata": {},
   "source": [
    "Limpieza de los datos\n",
    "Dependiendo de lo que encuentres en la exploración, puedes hacer lo siguiente:"
   ]
  },
  {
   "cell_type": "markdown",
   "metadata": {},
   "source": [
    "Eliminar duplicados:"
   ]
  },
  {
   "cell_type": "code",
   "execution_count": 52,
   "metadata": {},
   "outputs": [],
   "source": [
    "# Eliminar duplicados\n",
    "calificaciones_df = calificaciones_df.drop_duplicates()\n",
    "carrera_df = carrera_df.drop_duplicates()\n",
    "escuelas_df = escuelas_df.drop_duplicates()\n",
    "estudiantes_df = estudiantes_df.drop_duplicates()"
   ]
  },
  {
   "cell_type": "markdown",
   "metadata": {},
   "source": [
    "Manejo de valores nulos:\n",
    "\n",
    "Dependiendo de los valores nulos, puedes optar por eliminar filas o rellenarlas:"
   ]
  },
  {
   "cell_type": "code",
   "execution_count": 53,
   "metadata": {},
   "outputs": [],
   "source": [
    "# Rellenar valores nulos con un valor específico (ejemplo: 0 o 'Desconocido')\n",
    "calificaciones_df = calificaciones_df.fillna({'calificacion': 0, 'tipo_calificacion': 'Desconocido'})\n",
    "carrera_df = carrera_df.fillna({'nombre': 'Desconocido', 'corto': 'Desconocido'})\n",
    "escuelas_df = escuelas_df.fillna({'escuela': 'Desconocida'})\n",
    "estudiantes_df = estudiantes_df.fillna({'prepa': 'Desconocida', 'colonia': 'Desconocida', 'municipio': 'Desconocido'})\n",
    "\n",
    "# O eliminar filas con valores nulos si es necesario\n",
    "# calificaciones_df = calificaciones_df.dropna()\n"
   ]
  },
  {
   "cell_type": "markdown",
   "metadata": {},
   "source": [
    "Reemplazar valores incorrectos o inconsistentes:\n",
    "\n",
    "Si encuentras valores que no son correctos (por ejemplo, valores numéricos negativos donde no deberían ser), puedes reemplazarlos:"
   ]
  },
  {
   "cell_type": "code",
   "execution_count": 54,
   "metadata": {},
   "outputs": [],
   "source": [
    "# Reemplazar valores negativos por 0 en calificación\n",
    "calificaciones_df['calificacion'] = calificaciones_df['calificacion'].apply(lambda x: max(x, 0))\n"
   ]
  },
  {
   "cell_type": "markdown",
   "metadata": {},
   "source": [
    "Revisar tipos de datos\n",
    "Es importante verificar si los tipos de datos son correctos (por ejemplo, fechas como strings, números como strings, etc.)."
   ]
  },
  {
   "cell_type": "code",
   "execution_count": 55,
   "metadata": {},
   "outputs": [
    {
     "name": "stdout",
     "output_type": "stream",
     "text": [
      "clave_alumno       int64\n",
      "clave_carrera      int64\n",
      "sexo               int64\n",
      "prepa              int64\n",
      "colonia           object\n",
      "municipio         object\n",
      "ciudad            object\n",
      "ingreso          float64\n",
      "termino          float64\n",
      "causa_salida       int64\n",
      "dtype: object\n"
     ]
    }
   ],
   "source": [
    "# Verificar tipos de datos\n",
    "print(estudiantes_df.dtypes)\n",
    "\n",
    "# Convertir columnas a tipos correctos si es necesario\n",
    "estudiantes_df['ingreso'] = pd.to_datetime(estudiantes_df['ingreso'], errors='coerce')\n",
    "estudiantes_df['termino'] = pd.to_datetime(estudiantes_df['termino'], errors='coerce')\n"
   ]
  },
  {
   "cell_type": "markdown",
   "metadata": {},
   "source": [
    "Unir los DataFrames\n",
    "Si tienes que combinar los DataFrames en uno solo para hacer el análisis, usa merge():"
   ]
  },
  {
   "cell_type": "code",
   "execution_count": 56,
   "metadata": {},
   "outputs": [
    {
     "name": "stdout",
     "output_type": "stream",
     "text": [
      "Index(['clave_alumno', 'clave_carrera', 'sexo', 'prepa', 'colonia',\n",
      "       'municipio', 'ciudad', 'ingreso', 'termino', 'causa_salida'],\n",
      "      dtype='object')\n",
      "Index(['clave', 'escuela'], dtype='object')\n",
      "   clave_alumno  clave_carrera  sexo  prepa      colonia municipio  \\\n",
      "0            28              4     1      2  Los Angeles   25006.0   \n",
      "1            28              4     1      2  Los Angeles   25006.0   \n",
      "2            28              4     1      2  Los Angeles   25006.0   \n",
      "3            28              4     1      2  Los Angeles   25006.0   \n",
      "4            28              4     1      2  Los Angeles   25006.0   \n",
      "\n",
      "           ciudad                       ingreso                       termino  \\\n",
      "0  CULIACAN, SIN. 1970-01-01 00:00:00.000002003 1970-01-01 00:00:00.000002061   \n",
      "1  CULIACAN, SIN. 1970-01-01 00:00:00.000002003 1970-01-01 00:00:00.000002061   \n",
      "2  CULIACAN, SIN. 1970-01-01 00:00:00.000002003 1970-01-01 00:00:00.000002061   \n",
      "3  CULIACAN, SIN. 1970-01-01 00:00:00.000002003 1970-01-01 00:00:00.000002061   \n",
      "4  CULIACAN, SIN. 1970-01-01 00:00:00.000002003 1970-01-01 00:00:00.000002061   \n",
      "\n",
      "   causa_salida  periodo clave_materia  calificacion  tipo_calificacion  \\\n",
      "0             5   2003.0        04tBt2          80.0                1.0   \n",
      "1             5   2003.0        04tBt1          88.0                1.0   \n",
      "2             5   2003.0        04tGt4          80.0                3.0   \n",
      "3             5   2003.0        04tGt5          88.0                1.0   \n",
      "4             5   2011.0        04tAt3          70.0                1.0   \n",
      "\n",
      "                   nombre        corto  clave                         escuela  \n",
      "0  INGENIERIA ELECTRONICA  Electronica    4.0  COBAES 4(PROFR. VICTOR M. RUB)  \n",
      "1  INGENIERIA ELECTRONICA  Electronica    4.0  COBAES 4(PROFR. VICTOR M. RUB)  \n",
      "2  INGENIERIA ELECTRONICA  Electronica    4.0  COBAES 4(PROFR. VICTOR M. RUB)  \n",
      "3  INGENIERIA ELECTRONICA  Electronica    4.0  COBAES 4(PROFR. VICTOR M. RUB)  \n",
      "4  INGENIERIA ELECTRONICA  Electronica    4.0  COBAES 4(PROFR. VICTOR M. RUB)  \n"
     ]
    }
   ],
   "source": [
    "# Verificar las columnas de los DataFrames\n",
    "print(estudiantes_df.columns)\n",
    "print(escuelas_df.columns)\n",
    "\n",
    "# Unir estudiantes con carreras\n",
    "estudiantes_calificaciones_escuelas = pd.merge(estudiantes_df, calificaciones_df, on='clave_alumno', how='left')\n",
    "estudiantes_carrera = pd.merge(estudiantes_calificaciones_escuelas, carrera_df, on='clave_carrera', how='left')\n",
    "\n",
    "# Unir con escuelas usando 'clave_carrera' de estudiantes y 'clave' de escuelas\n",
    "estudiantes_completos = pd.merge(estudiantes_carrera, escuelas_df, left_on='clave_carrera', right_on='clave', how='left')\n",
    "\n",
    "# Verificar el resultado\n",
    "print(estudiantes_completos.head())\n"
   ]
  },
  {
   "cell_type": "markdown",
   "metadata": {},
   "source": [
    "Errores ortográficos en claves y datos categóricos:\n",
    "- Normalizar cadenas:\n",
    "- Reemplazar errores comunes:"
   ]
  },
  {
   "cell_type": "code",
   "execution_count": 57,
   "metadata": {},
   "outputs": [],
   "source": [
    "estudiantes_df['ciudad'] = estudiantes_df['ciudad'].str.lower().str.strip()\n",
    "escuelas_df['escuela'] = escuelas_df['escuela'].str.lower().str.strip()\n",
    "\n",
    "estudiantes_df['ciudad'] = estudiantes_df['ciudad'].replace({\n",
    "    'cdmx': 'ciudad de mexico', \n",
    "    'mexico': 'ciudad de mexico'\n",
    "})\n"
   ]
  },
  {
   "cell_type": "markdown",
   "metadata": {},
   "source": [
    "Formato de fechas incorrecto:"
   ]
  },
  {
   "cell_type": "code",
   "execution_count": 58,
   "metadata": {},
   "outputs": [],
   "source": [
    "estudiantes_df['ingreso'] = pd.to_datetime(estudiantes_df['ingreso'], errors='coerce')\n",
    "estudiantes_df['termino'] = pd.to_datetime(estudiantes_df['termino'], errors='coerce')\n"
   ]
  },
  {
   "cell_type": "markdown",
   "metadata": {},
   "source": [
    "Números con letras (mezcla de datos numéricos y texto):"
   ]
  },
  {
   "cell_type": "code",
   "execution_count": 59,
   "metadata": {},
   "outputs": [],
   "source": [
    "estudiantes_df['ingreso'] = pd.to_numeric(estudiantes_df['ingreso'], errors='coerce')\n",
    "estudiantes_df['termino'] = pd.to_numeric(estudiantes_df['termino'], errors='coerce')"
   ]
  },
  {
   "cell_type": "markdown",
   "metadata": {},
   "source": [
    "Detectar filas con datos incorrectos:"
   ]
  },
  {
   "cell_type": "code",
   "execution_count": 60,
   "metadata": {},
   "outputs": [],
   "source": [
    "# Convertir las columnas a numérico, reemplazando los valores no numéricos por NaN\n",
    "estudiantes_df['ingreso'] = pd.to_numeric(estudiantes_df['ingreso'], errors='coerce')\n",
    "estudiantes_df['termino'] = pd.to_numeric(estudiantes_df['termino'], errors='coerce')\n"
   ]
  },
  {
   "cell_type": "markdown",
   "metadata": {},
   "source": [
    "Números con letras (mezcla de datos numéricos y texto):"
   ]
  },
  {
   "cell_type": "code",
   "execution_count": 61,
   "metadata": {},
   "outputs": [
    {
     "name": "stdout",
     "output_type": "stream",
     "text": [
      "Filas con ingreso no numérico:\n",
      "Empty DataFrame\n",
      "Columns: [clave_alumno, clave_carrera, sexo, prepa, colonia, municipio, ciudad, ingreso, termino, causa_salida]\n",
      "Index: []\n",
      "\n",
      "Filas con termino no numérico:\n",
      "Empty DataFrame\n",
      "Columns: [clave_alumno, clave_carrera, sexo, prepa, colonia, municipio, ciudad, ingreso, termino, causa_salida]\n",
      "Index: []\n"
     ]
    }
   ],
   "source": [
    "\n",
    "# Filtrar las filas donde 'ingreso' o 'termino' es NaN (lo que indica que eran datos no numéricos)\n",
    "ingreso_no_numerico = estudiantes_df[estudiantes_df['ingreso'].isna()]\n",
    "termino_no_numerico = estudiantes_df[estudiantes_df['termino'].isna()]\n",
    "\n",
    "# Mostrar las filas con datos no numéricos en 'ingreso' o 'termino'\n",
    "print(\"Filas con ingreso no numérico:\")\n",
    "print(ingreso_no_numerico)\n",
    "print(\"\\nFilas con termino no numérico:\")\n",
    "print(termino_no_numerico)\n"
   ]
  },
  {
   "cell_type": "markdown",
   "metadata": {},
   "source": [
    "Reemplazo de valores nulos después de la limpieza:"
   ]
  },
  {
   "cell_type": "code",
   "execution_count": 62,
   "metadata": {},
   "outputs": [
    {
     "name": "stderr",
     "output_type": "stream",
     "text": [
      "/tmp/ipykernel_11444/3445933231.py:1: FutureWarning: A value is trying to be set on a copy of a DataFrame or Series through chained assignment using an inplace method.\n",
      "The behavior will change in pandas 3.0. This inplace method will never work because the intermediate object on which we are setting values always behaves as a copy.\n",
      "\n",
      "For example, when doing 'df[col].method(value, inplace=True)', try using 'df.method({col: value}, inplace=True)' or df[col] = df[col].method(value) instead, to perform the operation inplace on the original object.\n",
      "\n",
      "\n",
      "  estudiantes_completos['ciudad'].fillna('Desconocida', inplace=True)\n",
      "/tmp/ipykernel_11444/3445933231.py:2: FutureWarning: A value is trying to be set on a copy of a DataFrame or Series through chained assignment using an inplace method.\n",
      "The behavior will change in pandas 3.0. This inplace method will never work because the intermediate object on which we are setting values always behaves as a copy.\n",
      "\n",
      "For example, when doing 'df[col].method(value, inplace=True)', try using 'df.method({col: value}, inplace=True)' or df[col] = df[col].method(value) instead, to perform the operation inplace on the original object.\n",
      "\n",
      "\n",
      "  estudiantes_completos['ingreso'].fillna(0, inplace=True)\n",
      "/tmp/ipykernel_11444/3445933231.py:2: FutureWarning: Setting an item of incompatible dtype is deprecated and will raise an error in a future version of pandas. Value '0' has dtype incompatible with datetime64[ns], please explicitly cast to a compatible dtype first.\n",
      "  estudiantes_completos['ingreso'].fillna(0, inplace=True)\n",
      "/tmp/ipykernel_11444/3445933231.py:3: FutureWarning: A value is trying to be set on a copy of a DataFrame or Series through chained assignment using an inplace method.\n",
      "The behavior will change in pandas 3.0. This inplace method will never work because the intermediate object on which we are setting values always behaves as a copy.\n",
      "\n",
      "For example, when doing 'df[col].method(value, inplace=True)', try using 'df.method({col: value}, inplace=True)' or df[col] = df[col].method(value) instead, to perform the operation inplace on the original object.\n",
      "\n",
      "\n",
      "  estudiantes_completos['termino'].fillna(0, inplace=True)\n",
      "/tmp/ipykernel_11444/3445933231.py:3: FutureWarning: Setting an item of incompatible dtype is deprecated and will raise an error in a future version of pandas. Value '0' has dtype incompatible with datetime64[ns], please explicitly cast to a compatible dtype first.\n",
      "  estudiantes_completos['termino'].fillna(0, inplace=True)\n",
      "/tmp/ipykernel_11444/3445933231.py:4: FutureWarning: A value is trying to be set on a copy of a DataFrame or Series through chained assignment using an inplace method.\n",
      "The behavior will change in pandas 3.0. This inplace method will never work because the intermediate object on which we are setting values always behaves as a copy.\n",
      "\n",
      "For example, when doing 'df[col].method(value, inplace=True)', try using 'df.method({col: value}, inplace=True)' or df[col] = df[col].method(value) instead, to perform the operation inplace on the original object.\n",
      "\n",
      "\n",
      "  estudiantes_completos['escuela'].fillna('Desconocida', inplace=True)\n"
     ]
    }
   ],
   "source": [
    "estudiantes_completos['ciudad'].fillna('Desconocida', inplace=True)\n",
    "estudiantes_completos['ingreso'].fillna(0, inplace=True)\n",
    "estudiantes_completos['termino'].fillna(0, inplace=True)\n",
    "estudiantes_completos['escuela'].fillna('Desconocida', inplace=True)\n"
   ]
  },
  {
   "cell_type": "markdown",
   "metadata": {},
   "source": [
    "Eliminar filas con valores nulos en columnas clave (calificación, materia, etc.)"
   ]
  },
  {
   "cell_type": "code",
   "execution_count": 63,
   "metadata": {},
   "outputs": [],
   "source": [
    "# Eliminar filas con valores nulos en las columnas de calificaciones\n",
    "estudiantes_completos_limpios = estudiantes_completos.dropna(subset=['periodo', 'clave_materia', 'calificacion', 'tipo_calificacion'])\n",
    "\n",
    "# Guardar el DataFrame limpio\n",
    "estudiantes_completos_limpios.to_csv('estudiantes_completos_limpios.csv', index=False)\n"
   ]
  },
  {
   "cell_type": "markdown",
   "metadata": {},
   "source": [
    "Rellenar valores nulos con un valor predeterminado (por ejemplo, 0 para las calificaciones)"
   ]
  },
  {
   "cell_type": "code",
   "execution_count": 64,
   "metadata": {},
   "outputs": [],
   "source": [
    "# Rellenar los valores nulos en las columnas clave con 0 o algún valor predeterminado\n",
    "estudiantes_completos['calificacion'] = estudiantes_completos['calificacion'].fillna(0)\n",
    "estudiantes_completos['periodo'] = estudiantes_completos['periodo'].fillna('Desconocido')  # O algún valor que se adapte\n",
    "estudiantes_completos['clave_materia'] = estudiantes_completos['clave_materia'].fillna('Desconocido')\n",
    "estudiantes_completos['tipo_calificacion'] = estudiantes_completos['tipo_calificacion'].fillna('Desconocido')\n",
    "estudiantes_completos['clave'] = estudiantes_completos['clave'].fillna('Desconocido')  # Para la escuela\n",
    "\n",
    "# Guardar el DataFrame limpio\n",
    "estudiantes_completos.to_csv('estudiantes_completos_limpios.csv', index=False)\n"
   ]
  },
  {
   "cell_type": "markdown",
   "metadata": {},
   "source": [
    "Solo verificar y visualizar las filas con valores nulos"
   ]
  },
  {
   "cell_type": "code",
   "execution_count": 65,
   "metadata": {},
   "outputs": [
    {
     "name": "stdout",
     "output_type": "stream",
     "text": [
      "Empty DataFrame\n",
      "Columns: [clave_alumno, clave_carrera, sexo, prepa, colonia, municipio, ciudad, ingreso, termino, causa_salida, periodo, clave_materia, calificacion, tipo_calificacion, nombre, corto, clave, escuela]\n",
      "Index: []\n"
     ]
    }
   ],
   "source": [
    "# Ver las filas con valores nulos en las columnas clave\n",
    "nulos = estudiantes_completos[estudiantes_completos.isnull().any(axis=1)]\n",
    "print(nulos)"
   ]
  },
  {
   "cell_type": "code",
   "execution_count": 66,
   "metadata": {},
   "outputs": [
    {
     "name": "stdout",
     "output_type": "stream",
     "text": [
      "clave_alumno     float64\n",
      "clave_carrera    float64\n",
      "sexo             float64\n",
      "prepa            float64\n",
      "colonia           object\n",
      "municipio         object\n",
      "ciudad            object\n",
      "ingreso          float32\n",
      "termino          float32\n",
      "causa_salida     float64\n",
      "dtype: object\n"
     ]
    }
   ],
   "source": [
    "# Convertir todas las columnas numéricas a tipo float\n",
    "estudiantes_df['ingreso'] = pd.to_numeric(estudiantes_df['ingreso'], errors='coerce', downcast='float')\n",
    "estudiantes_df['termino'] = pd.to_numeric(estudiantes_df['termino'], errors='coerce', downcast='float')\n",
    "\n",
    "# También se puede aplicar a otras columnas numéricas si las hubiera\n",
    "# Asegurarse de que todas las columnas numéricas sean float\n",
    "for col in estudiantes_df.select_dtypes(include=['int64', 'float64']).columns:\n",
    "    estudiantes_df[col] = estudiantes_df[col].astype('float')\n",
    "\n",
    "# Verificar el tipo de datos después de la conversión\n",
    "print(estudiantes_df.dtypes)"
   ]
  },
  {
   "cell_type": "markdown",
   "metadata": {},
   "source": [
    "Verificación final y exportación\n",
    "Después de la limpieza, puedes revisar el DataFrame final y guardarlo para su análisis posterior:"
   ]
  },
  {
   "cell_type": "code",
   "execution_count": 67,
   "metadata": {},
   "outputs": [
    {
     "name": "stdout",
     "output_type": "stream",
     "text": [
      "clave_alumno         0\n",
      "clave_carrera        0\n",
      "sexo                 0\n",
      "prepa                0\n",
      "colonia              0\n",
      "municipio            0\n",
      "ciudad               0\n",
      "ingreso              0\n",
      "termino              0\n",
      "causa_salida         0\n",
      "periodo              0\n",
      "clave_materia        0\n",
      "calificacion         0\n",
      "tipo_calificacion    0\n",
      "nombre               0\n",
      "corto                0\n",
      "clave                0\n",
      "escuela              0\n",
      "dtype: int64\n"
     ]
    }
   ],
   "source": [
    "# Verificar si hay valores nulos en el DataFrame final\n",
    "print(estudiantes_completos.isnull().sum())\n",
    "\n",
    "# Guardar el DataFrame limpio\n",
    "estudiantes_completos.to_csv('estudiantes_completos_limpios.csv', index=False)"
   ]
  },
  {
   "cell_type": "code",
   "execution_count": 68,
   "metadata": {},
   "outputs": [
    {
     "name": "stdout",
     "output_type": "stream",
     "text": [
      "   clave_alumno  clave_carrera  sexo  prepa      colonia municipio  \\\n",
      "0            28              4     1      2  Los Angeles   25006.0   \n",
      "1            28              4     1      2  Los Angeles   25006.0   \n",
      "2            28              4     1      2  Los Angeles   25006.0   \n",
      "3            28              4     1      2  Los Angeles   25006.0   \n",
      "4            28              4     1      2  Los Angeles   25006.0   \n",
      "\n",
      "           ciudad                        ingreso  \\\n",
      "0  CULIACAN, SIN.  1970-01-01 00:00:00.000002003   \n",
      "1  CULIACAN, SIN.  1970-01-01 00:00:00.000002003   \n",
      "2  CULIACAN, SIN.  1970-01-01 00:00:00.000002003   \n",
      "3  CULIACAN, SIN.  1970-01-01 00:00:00.000002003   \n",
      "4  CULIACAN, SIN.  1970-01-01 00:00:00.000002003   \n",
      "\n",
      "                         termino  causa_salida periodo clave_materia  \\\n",
      "0  1970-01-01 00:00:00.000002061             5  2003.0        04tBt2   \n",
      "1  1970-01-01 00:00:00.000002061             5  2003.0        04tBt1   \n",
      "2  1970-01-01 00:00:00.000002061             5  2003.0        04tGt4   \n",
      "3  1970-01-01 00:00:00.000002061             5  2003.0        04tGt5   \n",
      "4  1970-01-01 00:00:00.000002061             5  2011.0        04tAt3   \n",
      "\n",
      "   calificacion tipo_calificacion                  nombre        corto clave  \\\n",
      "0          80.0               1.0  INGENIERIA ELECTRONICA  Electronica   4.0   \n",
      "1          88.0               1.0  INGENIERIA ELECTRONICA  Electronica   4.0   \n",
      "2          80.0               3.0  INGENIERIA ELECTRONICA  Electronica   4.0   \n",
      "3          88.0               1.0  INGENIERIA ELECTRONICA  Electronica   4.0   \n",
      "4          70.0               1.0  INGENIERIA ELECTRONICA  Electronica   4.0   \n",
      "\n",
      "                          escuela  \n",
      "0  COBAES 4(PROFR. VICTOR M. RUB)  \n",
      "1  COBAES 4(PROFR. VICTOR M. RUB)  \n",
      "2  COBAES 4(PROFR. VICTOR M. RUB)  \n",
      "3  COBAES 4(PROFR. VICTOR M. RUB)  \n",
      "4  COBAES 4(PROFR. VICTOR M. RUB)  \n"
     ]
    },
    {
     "name": "stderr",
     "output_type": "stream",
     "text": [
      "/tmp/ipykernel_11444/3039516880.py:2: DtypeWarning: Columns (5,10,13,16) have mixed types. Specify dtype option on import or set low_memory=False.\n",
      "  estudiantes_completos_guardados = pd.read_csv('estudiantes_completos_limpios.csv')\n"
     ]
    }
   ],
   "source": [
    "# Cargar el archivo CSV para visualizarlo\n",
    "estudiantes_completos_guardados = pd.read_csv('estudiantes_completos_limpios.csv')\n",
    "\n",
    "# Ver las primeras filas\n",
    "print(estudiantes_completos_guardados.head())\n"
   ]
  }
 ],
 "metadata": {
  "kernelspec": {
   "display_name": "Python 3",
   "language": "python",
   "name": "python3"
  },
  "language_info": {
   "codemirror_mode": {
    "name": "ipython",
    "version": 3
   },
   "file_extension": ".py",
   "mimetype": "text/x-python",
   "name": "python",
   "nbconvert_exporter": "python",
   "pygments_lexer": "ipython3",
   "version": "3.12.1"
  }
 },
 "nbformat": 4,
 "nbformat_minor": 2
}
