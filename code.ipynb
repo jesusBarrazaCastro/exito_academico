{
 "cells": [
  {
   "cell_type": "markdown",
   "metadata": {},
   "source": [
    "Cargar los archivos CSV"
   ]
  },
  {
   "cell_type": "code",
   "execution_count": null,
   "metadata": {},
   "outputs": [],
   "source": [
    "import pandas as pd\n",
    "\n",
    "# Cargar los archivos CSV\n",
    "calificaciones_df = pd.read_csv('input/calificaciones.csv')\n",
    "carrera_df = pd.read_csv('input/carrera.csv')\n",
    "escuelas_df = pd.read_csv('input/escuelas.csv')\n",
    "estudiantes_df = pd.read_csv('input/estudiantes.csv')\n",
    "\n",
    "# Ver las primeras filas de cada DataFrame\n",
    "print(calificaciones_df.head())\n",
    "print(carrera_df.head())\n",
    "print(escuelas_df.head())\n",
    "print(estudiantes_df.head())"
   ]
  },
  {
   "cell_type": "markdown",
   "metadata": {},
   "source": [
    "Explorar los datos\n",
    "Verificamos si los datos contienen valores nulos, duplicados, o alguna inconsistencia:"
   ]
  },
  {
   "cell_type": "code",
   "execution_count": null,
   "metadata": {},
   "outputs": [],
   "source": [
    "# Verificar si hay valores nulos\n",
    "print(\"Valores nulos en calificaciones:\\n\", calificaciones_df.isnull().sum())\n",
    "print(\"Valores nulos en carrera:\\n\", carrera_df.isnull().sum())\n",
    "print(\"Valores nulos en escuelas:\\n\", escuelas_df.isnull().sum())\n",
    "print(\"Valores nulos en estudiantes:\\n\", estudiantes_df.isnull().sum())\n",
    "\n",
    "# Verificar si hay duplicados\n",
    "print(\"Duplicados en calificaciones:\", calificaciones_df.duplicated().sum())\n",
    "print(\"Duplicados en carrera:\", carrera_df.duplicated().sum())\n",
    "print(\"Duplicados en escuelas:\", escuelas_df.duplicated().sum())\n",
    "print(\"Duplicados en estudiantes:\", estudiantes_df.duplicated().sum())"
   ]
  },
  {
   "cell_type": "markdown",
   "metadata": {},
   "source": [
    "Limpieza de los datos\n",
    "Dependiendo de lo que encuentres en la exploración, puedes hacer lo siguiente:"
   ]
  },
  {
   "cell_type": "markdown",
   "metadata": {},
   "source": [
    "Eliminar duplicados:"
   ]
  },
  {
   "cell_type": "code",
   "execution_count": null,
   "metadata": {},
   "outputs": [],
   "source": [
    "# Eliminar duplicados\n",
    "calificaciones_df = calificaciones_df.drop_duplicates()\n",
    "carrera_df = carrera_df.drop_duplicates()\n",
    "escuelas_df = escuelas_df.drop_duplicates()\n",
    "estudiantes_df = estudiantes_df.drop_duplicates()"
   ]
  },
  {
   "cell_type": "markdown",
   "metadata": {},
   "source": [
    "Manejo de valores nulos:\n",
    "\n",
    "Dependiendo de los valores nulos, puedes optar por eliminar filas o rellenarlas:"
   ]
  },
  {
   "cell_type": "code",
   "execution_count": null,
   "metadata": {},
   "outputs": [],
   "source": [
    "# Rellenar valores nulos con un valor específico (ejemplo: 0 o 'Desconocido')\n",
    "calificaciones_df = calificaciones_df.fillna({'calificacion': 0, 'tipo_calificacion': 'Desconocido'})\n",
    "carrera_df = carrera_df.fillna({'nombre': 'Desconocido', 'corto': 'Desconocido'})\n",
    "escuelas_df = escuelas_df.fillna({'escuela': 'Desconocida'})\n",
    "estudiantes_df = estudiantes_df.fillna({'prepa': 'Desconocida', 'colonia': 'Desconocida', 'municipio': 'Desconocido'})\n",
    "\n",
    "# O eliminar filas con valores nulos si es necesario\n",
    "# calificaciones_df = calificaciones_df.dropna()\n"
   ]
  },
  {
   "cell_type": "markdown",
   "metadata": {},
   "source": [
    "Reemplazar valores incorrectos o inconsistentes:\n",
    "\n",
    "Si encuentras valores que no son correctos (por ejemplo, valores numéricos negativos donde no deberían ser), puedes reemplazarlos:"
   ]
  },
  {
   "cell_type": "code",
   "execution_count": null,
   "metadata": {},
   "outputs": [],
   "source": [
    "# Reemplazar valores negativos por 0 en calificación\n",
    "calificaciones_df['calificacion'] = calificaciones_df['calificacion'].apply(lambda x: max(x, 0))\n"
   ]
  },
  {
   "cell_type": "markdown",
   "metadata": {},
   "source": [
    "Revisar tipos de datos\n",
    "Es importante verificar si los tipos de datos son correctos (por ejemplo, fechas como strings, números como strings, etc.)."
   ]
  },
  {
   "cell_type": "code",
   "execution_count": null,
   "metadata": {},
   "outputs": [],
   "source": [
    "# Verificar tipos de datos\n",
    "print(estudiantes_df.dtypes)\n",
    "\n",
    "# Convertir columnas a tipos correctos si es necesario\n",
    "estudiantes_df['ingreso'] = pd.to_datetime(estudiantes_df['ingreso'], errors='coerce')\n",
    "estudiantes_df['termino'] = pd.to_datetime(estudiantes_df['termino'], errors='coerce')\n"
   ]
  },
  {
   "cell_type": "markdown",
   "metadata": {},
   "source": [
    "Unir los DataFrames\n",
    "Si tienes que combinar los DataFrames en uno solo para hacer el análisis, usa merge():"
   ]
  },
  {
   "cell_type": "code",
   "execution_count": null,
   "metadata": {},
   "outputs": [],
   "source": [
    "# Verificar las columnas de los DataFrames\n",
    "print(estudiantes_df.columns)\n",
    "print(escuelas_df.columns)\n",
    "\n",
    "# Unir estudiantes con carreras\n",
    "estudiantes_calificaciones_escuelas = pd.merge(estudiantes_df, calificaciones_df, on='clave_alumno', how='left')\n",
    "estudiantes_carrera = pd.merge(estudiantes_calificaciones_escuelas, carrera_df, on='clave_carrera', how='left')\n",
    "\n",
    "# Unir con escuelas usando 'clave_carrera' de estudiantes y 'clave' de escuelas\n",
    "estudiantes_completos = pd.merge(estudiantes_carrera, escuelas_df, left_on='clave_carrera', right_on='clave', how='left')\n",
    "\n",
    "# Verificar el resultado\n",
    "print(estudiantes_completos.head())\n"
   ]
  },
  {
   "cell_type": "markdown",
   "metadata": {},
   "source": [
    "Errores ortográficos en claves y datos categóricos:\n",
    "- Normalizar cadenas:\n",
    "- Reemplazar errores comunes:"
   ]
  },
  {
   "cell_type": "code",
   "execution_count": null,
   "metadata": {},
   "outputs": [],
   "source": [
    "estudiantes_df['ciudad'] = estudiantes_df['ciudad'].str.lower().str.strip()\n",
    "escuelas_df['escuela'] = escuelas_df['escuela'].str.lower().str.strip()\n",
    "\n",
    "estudiantes_df['ciudad'] = estudiantes_df['ciudad'].replace({\n",
    "    'cdmx': 'ciudad de mexico', \n",
    "    'mexico': 'ciudad de mexico'\n",
    "})\n"
   ]
  },
  {
   "cell_type": "markdown",
   "metadata": {},
   "source": [
    "Formato de fechas incorrecto:"
   ]
  },
  {
   "cell_type": "code",
   "execution_count": null,
   "metadata": {},
   "outputs": [],
   "source": [
    "estudiantes_df['ingreso'] = pd.to_datetime(estudiantes_df['ingreso'], errors='coerce')\n",
    "estudiantes_df['termino'] = pd.to_datetime(estudiantes_df['termino'], errors='coerce')\n"
   ]
  },
  {
   "cell_type": "markdown",
   "metadata": {},
   "source": [
    "Números con letras (mezcla de datos numéricos y texto):"
   ]
  },
  {
   "cell_type": "code",
   "execution_count": null,
   "metadata": {},
   "outputs": [],
   "source": [
    "estudiantes_df['ingreso'] = pd.to_numeric(estudiantes_df['ingreso'], errors='coerce')\n",
    "estudiantes_df['termino'] = pd.to_numeric(estudiantes_df['termino'], errors='coerce')"
   ]
  },
  {
   "cell_type": "markdown",
   "metadata": {},
   "source": [
    "Detectar filas con datos incorrectos:"
   ]
  },
  {
   "cell_type": "code",
   "execution_count": null,
   "metadata": {},
   "outputs": [],
   "source": [
    "# Convertir las columnas a numérico, reemplazando los valores no numéricos por NaN\n",
    "estudiantes_df['ingreso'] = pd.to_numeric(estudiantes_df['ingreso'], errors='coerce')\n",
    "estudiantes_df['termino'] = pd.to_numeric(estudiantes_df['termino'], errors='coerce')\n"
   ]
  },
  {
   "cell_type": "markdown",
   "metadata": {},
   "source": [
    "Números con letras (mezcla de datos numéricos y texto):"
   ]
  },
  {
   "cell_type": "code",
   "execution_count": null,
   "metadata": {},
   "outputs": [],
   "source": [
    "\n",
    "# Filtrar las filas donde 'ingreso' o 'termino' es NaN (lo que indica que eran datos no numéricos)\n",
    "ingreso_no_numerico = estudiantes_df[estudiantes_df['ingreso'].isna()]\n",
    "termino_no_numerico = estudiantes_df[estudiantes_df['termino'].isna()]\n",
    "\n",
    "# Mostrar las filas con datos no numéricos en 'ingreso' o 'termino'\n",
    "print(\"Filas con ingreso no numérico:\")\n",
    "print(ingreso_no_numerico)\n",
    "print(\"\\nFilas con termino no numérico:\")\n",
    "print(termino_no_numerico)\n"
   ]
  },
  {
   "cell_type": "markdown",
   "metadata": {},
   "source": [
    "Reemplazo de valores nulos después de la limpieza:"
   ]
  },
  {
   "cell_type": "code",
   "execution_count": null,
   "metadata": {},
   "outputs": [],
   "source": [
    "estudiantes_completos['ciudad'].fillna('Desconocida', inplace=True)\n",
    "estudiantes_completos['ingreso'].fillna(0, inplace=True)\n",
    "estudiantes_completos['termino'].fillna(0, inplace=True)\n",
    "estudiantes_completos['escuela'].fillna('Desconocida', inplace=True)\n"
   ]
  },
  {
   "cell_type": "markdown",
   "metadata": {},
   "source": [
    "Eliminar filas con valores nulos en columnas clave (calificación, materia, etc.)"
   ]
  },
  {
   "cell_type": "code",
   "execution_count": null,
   "metadata": {},
   "outputs": [],
   "source": [
    "# Eliminar filas con valores nulos en las columnas de calificaciones\n",
    "estudiantes_completos_limpios = estudiantes_completos.dropna(subset=['periodo', 'clave_materia', 'calificacion', 'tipo_calificacion'])\n",
    "\n",
    "# Guardar el DataFrame limpio\n",
    "estudiantes_completos_limpios.to_csv('estudiantes_completos_limpios.csv', index=False)\n"
   ]
  },
  {
   "cell_type": "markdown",
   "metadata": {},
   "source": [
    "Rellenar valores nulos con un valor predeterminado (por ejemplo, 0 para las calificaciones)"
   ]
  },
  {
   "cell_type": "code",
   "execution_count": null,
   "metadata": {},
   "outputs": [],
   "source": [
    "# Rellenar los valores nulos en las columnas clave con 0 o algún valor predeterminado\n",
    "estudiantes_completos['calificacion'] = estudiantes_completos['calificacion'].fillna(0)\n",
    "estudiantes_completos['periodo'] = estudiantes_completos['periodo'].fillna('Desconocido')  # O algún valor que se adapte\n",
    "estudiantes_completos['clave_materia'] = estudiantes_completos['clave_materia'].fillna('Desconocido')\n",
    "estudiantes_completos['tipo_calificacion'] = estudiantes_completos['tipo_calificacion'].fillna('Desconocido')\n",
    "estudiantes_completos['clave'] = estudiantes_completos['clave'].fillna('Desconocido')  # Para la escuela\n",
    "\n",
    "# Guardar el DataFrame limpio\n",
    "estudiantes_completos.to_csv('estudiantes_completos_limpios.csv', index=False)\n"
   ]
  },
  {
   "cell_type": "markdown",
   "metadata": {},
   "source": [
    "Solo verificar y visualizar las filas con valores nulos"
   ]
  },
  {
   "cell_type": "code",
   "execution_count": null,
   "metadata": {},
   "outputs": [],
   "source": [
    "# Ver las filas con valores nulos en las columnas clave\n",
    "nulos = estudiantes_completos[estudiantes_completos.isnull().any(axis=1)]\n",
    "print(nulos)"
   ]
  },
  {
   "cell_type": "code",
   "execution_count": null,
   "metadata": {},
   "outputs": [],
   "source": [
    "# Convertir todas las columnas numéricas a tipo float\n",
    "estudiantes_df['ingreso'] = pd.to_numeric(estudiantes_df['ingreso'], errors='coerce', downcast='float')\n",
    "estudiantes_df['termino'] = pd.to_numeric(estudiantes_df['termino'], errors='coerce', downcast='float')\n",
    "\n",
    "# También se puede aplicar a otras columnas numéricas si las hubiera\n",
    "# Asegurarse de que todas las columnas numéricas sean float\n",
    "for col in estudiantes_df.select_dtypes(include=['int64', 'float64']).columns:\n",
    "    estudiantes_df[col] = estudiantes_df[col].astype('float')\n",
    "\n",
    "# Verificar el tipo de datos después de la conversión\n",
    "print(estudiantes_df.dtypes)"
   ]
  },
  {
   "cell_type": "markdown",
   "metadata": {},
   "source": [
    "Verificación final y exportación\n",
    "Después de la limpieza, puedes revisar el DataFrame final y guardarlo para su análisis posterior:"
   ]
  },
  {
   "cell_type": "code",
   "execution_count": null,
   "metadata": {},
   "outputs": [],
   "source": [
    "# Verificar si hay valores nulos en el DataFrame final\n",
    "print(estudiantes_completos.isnull().sum())\n",
    "\n",
    "# Guardar el DataFrame limpio\n",
    "estudiantes_completos.to_csv('estudiantes_completos_limpios.csv', index=False)"
   ]
  },
  {
   "cell_type": "code",
   "execution_count": null,
   "metadata": {},
   "outputs": [],
   "source": [
    "# Cargar el archivo CSV para visualizarlo\n",
    "estudiantes_completos_guardados = pd.read_csv('estudiantes_completos_limpios.csv')\n",
    "\n",
    "# Ver las primeras filas\n",
    "print(estudiantes_completos_guardados.head())\n"
   ]
  }
 ],
 "metadata": {
  "kernelspec": {
   "display_name": "Python 3",
   "language": "python",
   "name": "python3"
  },
  "language_info": {
   "codemirror_mode": {
    "name": "ipython",
    "version": 3
   },
   "file_extension": ".py",
   "mimetype": "text/x-python",
   "name": "python",
   "nbconvert_exporter": "python",
   "pygments_lexer": "ipython3",
   "version": "3.12.1"
  }
 },
 "nbformat": 4,
 "nbformat_minor": 2
}
